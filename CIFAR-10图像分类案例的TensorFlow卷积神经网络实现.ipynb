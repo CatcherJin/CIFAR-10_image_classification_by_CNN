{
 "cells": [
  {
   "cell_type": "code",
   "execution_count": 1,
   "metadata": {},
   "outputs": [],
   "source": [
    "#------------------------------------1.1 下载CIFAR-10数据集----------------------------------------------------\n",
    "import urllib.request\n",
    "import os\n",
    "import tarfile"
   ]
  },
  {
   "cell_type": "code",
   "execution_count": 4,
   "metadata": {},
   "outputs": [
    {
     "name": "stdout",
     "output_type": "stream",
     "text": [
      "Data file already exists!\n",
      "Extract to ./data/cifar/cifar-10-batches-py/\n"
     ]
    }
   ],
   "source": [
    "# 下载\n",
    "url = 'https://www.cs.toronto.edu/~kriz/cifar-10-python.tar.gz'\n",
    "filepath = 'data/cifar-10-python.tar.gz'\n",
    "if not os.path.isfile(filepath):\n",
    "    result = urllib.request.urlretrieve(url, filepath)\n",
    "    print(\"downloaded: \", result)\n",
    "else:\n",
    "    print('Data file already exists!')\n",
    "\n",
    "# 解压\n",
    "if not os.path.exists(\"data/cifar-10-batches-py\"):\n",
    "    tfile = tarfile.open('data/cifar-10-python.tar.gz')\n",
    "    result = tfile.extractall('data/')\n",
    "    print(\"Extract to ./data/cifar/cifar-10-batches-py/\")\n",
    "else:\n",
    "    print('Directory already exists!')"
   ]
  },
  {
   "cell_type": "code",
   "execution_count": 5,
   "metadata": {},
   "outputs": [],
   "source": [
    "import tensorflow as tf\n",
    "import numpy as np\n",
    "import pickle as p"
   ]
  },
  {
   "cell_type": "code",
   "execution_count": 6,
   "metadata": {},
   "outputs": [],
   "source": [
    "def load_CIFAR_batch(filename): # 读取一个批次的样本，10000条\n",
    "    \"\"\"load single batch of cifar\"\"\"\n",
    "    with open(filename,\"rb\") as f:\n",
    "        # 一个样本由标签和图像数据组成\n",
    "        # <1×label><3072×pixel>(3072=32*32*3)\n",
    "        data_dict = p.load(f, encoding=\"bytes\")\n",
    "        images = data_dict[b\"data\"]\n",
    "        labels = data_dict[b'labels']\n",
    "\n",
    "        # 把原始数据结构调整为BCWH(batches,channels,width,height)\n",
    "        images = images.reshape(10000, 3, 32, 32)   # 四维数组，维度的索引分别为0,1,2,3\n",
    "        # tensorflow处理数据图像的结构BWHC\n",
    "        # 所以要把通道数据移动到最后一个维度:transpose函数是按照后面参数(可以理解为围绕的轴)对原数四维组进行转置\n",
    "        # 对照维度的索引，大致是把索引重新排列以实现转置（0,1,2,3）-（0,2,3,1），就是把原来索引1排到末尾了\n",
    "        # 一般低维数组（一维二维）用.T进行转置，高维数组用.transpose(索引参数)进行转置\n",
    "        images = images.transpose(0,2,3,1)\n",
    "        labels = np.array(labels)\n",
    "        return images, labels\n",
    "\n",
    "def load_CIFAR_data(data_dir):   # 完整读取数据集\n",
    "    \"\"\"load cifar data\"\"\"\n",
    "    images_train = []\n",
    "    labels_train = []\n",
    "    for i in range(5):\n",
    "        f = os.path.join(data_dir, 'data_batch_%d' % (i+1))\n",
    "        print('loading', f)\n",
    "        # 调用load_CIFAR_batch()获得批量的图像及其对应的标签\n",
    "        image_batch, label_batch = load_CIFAR_batch(f)\n",
    "        images_train.append(image_batch)\n",
    "        labels_train.append(label_batch)\n",
    "        # np.concatenate函数实现将多个数组进行合并成为一个数组，合并结果会降低一维(将索引为0和1的两维合并成一维)\n",
    "        # 如原先的数组为(4,2,2)，用np.concatenate()后变成两维(8,2)数组\n",
    "        Xtrain = np.concatenate(images_train)\n",
    "        Ytrain = np.concatenate(labels_train)\n",
    "        del image_batch, label_batch\n",
    "\n",
    "    Xtest, Ytest = load_CIFAR_batch(os.path.join(data_dir, 'test_batch'))\n",
    "    print('finished loading CIFAR-10 data!')\n",
    "\n",
    "    # 返回训练集图像和标签，测试集图像和标签\n",
    "    return Xtrain, Ytrain, Xtest, Ytest"
   ]
  },
  {
   "cell_type": "code",
   "execution_count": 7,
   "metadata": {},
   "outputs": [
    {
     "name": "stdout",
     "output_type": "stream",
     "text": [
      "loading data/cifar-10-batches-py/data_batch_1\n",
      "loading data/cifar-10-batches-py/data_batch_2\n",
      "loading data/cifar-10-batches-py/data_batch_3\n",
      "loading data/cifar-10-batches-py/data_batch_4\n",
      "loading data/cifar-10-batches-py/data_batch_5\n",
      "finished loading CIFAR-10 data!\n"
     ]
    }
   ],
   "source": [
    "#--------------------------------1.2 导入数据集的数据-------------------------------------------\n",
    "# 调用数据读取的函数读取数据\n",
    "data_dir = 'data/cifar-10-batches-py/'\n",
    "Xtrain, Ytrain, Xtest, Ytest = load_CIFAR_data(data_dir)"
   ]
  },
  {
   "cell_type": "code",
   "execution_count": 8,
   "metadata": {},
   "outputs": [
    {
     "name": "stdout",
     "output_type": "stream",
     "text": [
      "training data shape:  (50000, 32, 32, 3)\n",
      "training label shape:  (50000,)\n",
      "testing data shape:  (10000, 32, 32, 3)\n",
      "testing data shape:  (10000,)\n"
     ]
    }
   ],
   "source": [
    "#--------------------------------1.3 察看相关数据信息-------------------------------------------\n",
    "# 察看数据集的信息\n",
    "print(\"training data shape: \", Xtrain.shape)  # (50000, 32, 32, 3)\n",
    "print(\"training label shape: \", Ytrain.shape) # (50000,)\n",
    "print(\"testing data shape: \", Xtest.shape)    # (10000, 32, 32, 3)\n",
    "print(\"testing data shape: \", Ytest.shape)    # (10000, )"
   ]
  },
  {
   "cell_type": "code",
   "execution_count": 9,
   "metadata": {},
   "outputs": [],
   "source": [
    "import matplotlib.pyplot as plt"
   ]
  },
  {
   "cell_type": "code",
   "execution_count": 10,
   "metadata": {},
   "outputs": [
    {
     "data": {
      "image/png": "[encoded data removed]",
      "text/plain": [
       "<Figure size 432x288 with 1 Axes>"
      ]
     },
     "metadata": {},
     "output_type": "display_data"
    },
    {
     "name": "stdout",
     "output_type": "stream",
     "text": [
      "1\n",
      "5\n"
     ]
    }
   ],
   "source": [
    "# 察看单项image和label\n",
    "%matplotlib inline\n",
    "plt.imshow(Xtrain[5])\n",
    "plt.imshow(Xtest[65])\n",
    "plt.show()\n",
    "print(Ytrain[5])\n",
    "print(Ytest[1000])"
   ]
  },
  {
   "cell_type": "code",
   "execution_count": 12,
   "metadata": {},
   "outputs": [],
   "source": [
    "label_dict = {0: 'airplane', 1: 'automobile', 2: 'bird', 3:'cat', 4: 'deer', 5: 'dog', 6:'frog', 7: 'horse', 8: 'ship', 9: 'truck'}\n",
    "\n",
    "def plot_images_labels_prediction(images, labels, prediction, idx, num=10):\n",
    "    fig = plt.gcf()\n",
    "    fig.set_size_inches(12, 6)\n",
    "    if num > 10:\n",
    "        num = 10\n",
    "    for i in range(0, num):\n",
    "        ax = plt.subplot(2, 5, i+1)\n",
    "        ax.imshow(images[idx], cmap='binary')\n",
    "\n",
    "        title = str(i) + ',' + label_dict[labels[idx]]\n",
    "        if len(prediction) > 0:\n",
    "            title += '=>' + label_dict[prediction[idx]]\n",
    "\n",
    "        ax.set_title(title, fontsize=10)\n",
    "\n",
    "        idx += 1\n",
    "    plt.show()"
   ]
  },
  {
   "cell_type": "code",
   "execution_count": 13,
   "metadata": {},
   "outputs": [
    {
     "data": {
      "image/png": "[encoded data removed]",
      "text/plain": [
       "<Figure size 864x432 with 10 Axes>"
      ]
     },
     "metadata": {},
     "output_type": "display_data"
    }
   ],
   "source": [
    "# 调用图像和标签察看函数察看多个图片和标签\n",
    "plot_images_labels_prediction(Xtest, Ytest, [], 0, 10)"
   ]
  },
  {
   "cell_type": "code",
   "execution_count": 14,
   "metadata": {},
   "outputs": [
    {
     "name": "stdout",
     "output_type": "stream",
     "text": [
      "[59 62 63]\n"
     ]
    }
   ],
   "source": [
    "#---------------------------------------1.4 数据预处理---------------------------------------------------\n",
    "# 1.4.1 图像数据预处理\n",
    "# 显示第一张图的第一个像素点（[0][0][0]分别表示三通道r/g/b的值）\n",
    "print(Xtrain[0][0][0])    # 结果[59 62 63]\n",
    "\n",
    "# 将图像进行数字标准化\n",
    "Xtrain_normalize = Xtrain.astype('float32') / 255.0\n",
    "Xtest_normalize = Xtest.astype('float32') / 255.0"
   ]
  },
  {
   "cell_type": "code",
   "execution_count": 15,
   "metadata": {},
   "outputs": [
    {
     "name": "stdout",
     "output_type": "stream",
     "text": [
      "[0.23137255 0.24313726 0.24705882]\n"
     ]
    }
   ],
   "source": [
    "# 察看处理后的图像数据\n",
    "print(Xtrain_normalize[0][0][0])  # 结果[0.23137255 0.24313726 0.24705882]"
   ]
  },
  {
   "cell_type": "code",
   "execution_count": 16,
   "metadata": {},
   "outputs": [
    {
     "name": "stdout",
     "output_type": "stream",
     "text": [
      "[6 9 9 4 1 1 2 7 8 3]\n"
     ]
    }
   ],
   "source": [
    "# 标签数据预处理\n",
    "# 当前的标签数据是对应的0-9的数字，需要转成独热编码（one-hot encoding）\n",
    "print(Ytrain[0:10])   # 结果[6 9 9 4 1 1 2 7 8 3]"
   ]
  },
  {
   "cell_type": "code",
   "execution_count": 17,
   "metadata": {},
   "outputs": [],
   "source": [
    "# 转换成独热编码的代码\n",
    "from sklearn.preprocessing import OneHotEncoder\n",
    "encoder = OneHotEncoder(sparse=False)\n",
    "yy = [[0],[1],[2],[3],[4],[5],[6],[7],[8],[9]]\n",
    "encoder.fit(yy)\n",
    "Ytrain_reshape = Ytrain.reshape(-1, 1)\n",
    "Ytrain_onehot = encoder.transform(Ytrain_reshape)\n",
    "Ytest_reshape = Ytrain.reshape(-1, 1)\n",
    "Ytest_onehot = encoder.transform(Ytest_reshape)"
   ]
  },
  {
   "cell_type": "code",
   "execution_count": 18,
   "metadata": {},
   "outputs": [
    {
     "name": "stdout",
     "output_type": "stream",
     "text": [
      "[[0. 0. 0. 0. 0. 0. 1. 0. 0. 0.]\n",
      " [0. 0. 0. 0. 0. 0. 0. 0. 0. 1.]\n",
      " [0. 0. 0. 0. 0. 0. 0. 0. 0. 1.]\n",
      " [0. 0. 0. 0. 1. 0. 0. 0. 0. 0.]\n",
      " [0. 1. 0. 0. 0. 0. 0. 0. 0. 0.]\n",
      " [0. 1. 0. 0. 0. 0. 0. 0. 0. 0.]\n",
      " [0. 0. 1. 0. 0. 0. 0. 0. 0. 0.]\n",
      " [0. 0. 0. 0. 0. 0. 0. 1. 0. 0.]\n",
      " [0. 0. 0. 0. 0. 0. 0. 0. 1. 0.]\n",
      " [0. 0. 0. 1. 0. 0. 0. 0. 0. 0.]]\n"
     ]
    }
   ],
   "source": [
    "print(Ytrain_onehot[0:10])"
   ]
  },
  {
   "cell_type": "code",
   "execution_count": 20,
   "metadata": {},
   "outputs": [],
   "source": [
    "#-------------------------------- 步骤2：构建CIFAR-10的图像分类模型------------------------------------------------\n",
    "\"\"\"\n",
    "模型的架构：\n",
    "    - 输入层：32*32图像，rgb三通道\n",
    "    - 卷积层1（第一次卷积）：输入通道3；输出通道32；卷积后图像尺寸不变\n",
    "    - 降采样层1（第一次降采样）：将32*32的图像缩小为16*16；降采样（池化）不改变通道数量，因此依然是32个\n",
    "    - 卷积层2（第二次卷积）：输入通道32，输出通道64，卷积后图像尺寸不变，依然是16*16\n",
    "    - 降采样层2（第二次降采样）：将16*16的图像缩小为8*8，降采样（池化）不改变通道数量（64）\n",
    "    - 全连接层：将64个8*8的图像转换成长度是4096（=64*8*8）的一维向量，该层共计128个神经元\n",
    "    - 输出层：输出层共10个神经元，对应0-9这10个类别\n",
    "图像特征的提取：通过卷积层1、降采样层1、卷积层2、降采样层2的处理，提出图像特征\n",
    "全连接神经网络：全连接层和输出层构成的网络结构\n",
    "\"\"\"\n",
    "\n",
    "tf.reset_default_graph()   # 清空tensorboard的graph"
   ]
  },
  {
   "cell_type": "code",
   "execution_count": 21,
   "metadata": {},
   "outputs": [],
   "source": [
    "#定义后面都要用到的共享函数\n",
    "\n",
    "# 定义权值函数\n",
    "def weight(shape):\n",
    "    \"\"\"在构建模型时，需要使用tf.Variable来创建变量，训练时这个变量会不断更新\n",
    "       这里使用tf.truncated_normal(截断型正态分布)生成标准差为0.1的随机数来初始化权值\"\"\"\n",
    "    return tf.Variable(tf.truncated_normal(shape, stddev=0.1), name='W')\n",
    "\n",
    "# 定义偏置项，并初始化为0.1\n",
    "def bias(shape):\n",
    "    return tf.Variable(tf.constant(0.1, shape=shape), name='b')\n",
    "\n",
    "# 定义卷积操作：步长为1，padding为SAME(卷积之后图像的大小不变)\n",
    "def conv2d(x, W):\n",
    "    \"\"\"直接使用tensorflow内置的卷积函数\"\"\"\n",
    "    return tf.nn.conv2d(x, W, strides=[1,1,1,1], padding='SAME')\n",
    "\n",
    "# 定义池化操作：步长为2，即原尺寸的长宽各除以2\n",
    "def max_pool_2x2(x):\n",
    "    \"\"\"直接使用tensorflow内置的最大值降采样函数\"\"\"\n",
    "    return tf.nn.max_pool(x, ksize=[1,2,2,1], strides=[1,2,2,1], padding='SAME')"
   ]
  },
  {
   "cell_type": "code",
   "execution_count": 22,
   "metadata": {},
   "outputs": [],
   "source": [
    "#-------------------------------- 2.2 定义网络结构------------------------------------------------\n",
    "# 输入层：32*32的图像，通道3\n",
    "with tf.name_scope('input_layer'):\n",
    "    x = tf.placeholder('float', shape=[None, 32, 32, 3], name='x')"
   ]
  },
  {
   "cell_type": "code",
   "execution_count": 23,
   "metadata": {},
   "outputs": [],
   "source": [
    "# 卷积层1：输入通道3，输出通道32， 卷积后图像尺寸不变，还是32*32\n",
    "with tf.name_scope('conv_1'):\n",
    "    W1 = weight([3,3,3,32]) # [k_weight,k_height,input_chn,output_chn][卷积核宽，卷积核高，输入通道数，输出通道数]\n",
    "    b1 = bias([32]) # 与output_chn一致\n",
    "    conv_1 = conv2d(x, W1) + b1\n",
    "    conv_1 = tf.nn.relu(conv_1)"
   ]
  },
  {
   "cell_type": "code",
   "execution_count": 24,
   "metadata": {},
   "outputs": [],
   "source": [
    "# 池化层1：将32*32的图像缩小为16*16，池化不改变通道数，因此依然是32个\n",
    "with tf.name_scope('pool_1'):\n",
    "    pool_1 = max_pool_2x2(conv_1)"
   ]
  },
  {
   "cell_type": "code",
   "execution_count": 25,
   "metadata": {},
   "outputs": [],
   "source": [
    "# 卷积层2：输入通道32，输出通道64，卷积后图像尺寸不变（16*16）\n",
    "with tf.name_scope('conv_2'):\n",
    "    W2 = weight([3,3,32,64])\n",
    "    b2 = bias([64])\n",
    "    conv_2 = conv2d(pool_1, W2) + b2\n",
    "    conv_2 = tf.nn.relu(conv_2)"
   ]
  },
  {
   "cell_type": "code",
   "execution_count": 26,
   "metadata": {},
   "outputs": [],
   "source": [
    "# 池化层2：将16*16的图像缩小为8*8，池化不改变通道数，因此依然是64个\n",
    "with tf.name_scope('pool_2'):\n",
    "    pool_2 = max_pool_2x2(conv_2)"
   ]
  },
  {
   "cell_type": "code",
   "execution_count": 27,
   "metadata": {},
   "outputs": [],
   "source": [
    "# 全连接层：共128个神经元。将池化层2输出的64个8*8的图像转换成一维向量，长度是64*8*8=4096\n",
    "with tf.name_scope('fc'):\n",
    "    W3 = weight([4096, 128])   # 每个神经元都与4096个像素点进行全连接（神经元个数128可以调整）\n",
    "    b3 = bias([128])\n",
    "    flat = tf.reshape(pool_2, [-1, 4096])\n",
    "    # 参数-1在reshape中表示，如果不知道行的个数，用-1指定，tf会自动计算行数，最终形成结果（列数为-1时类似）\n",
    "    h = tf.nn.relu(tf.matmul(flat, W3) + b3)\n",
    "    h_dropout = tf.nn.dropout(h, keep_prob=0.8)   # dropout是用来防止或减轻过拟合的方法，一般用在全连接层\n"
   ]
  },
  {
   "cell_type": "code",
   "execution_count": 28,
   "metadata": {},
   "outputs": [],
   "source": [
    "# 输出层：共10个神经元，对应0-9这10个数字\n",
    "with tf.name_scope('output_layer'):\n",
    "    W4 = weight([128, 10])\n",
    "    b4 = bias([10])\n",
    "    pred = tf.nn.softmax(tf.matmul(h_dropout, W4) + b4)"
   ]
  },
  {
   "cell_type": "code",
   "execution_count": 29,
   "metadata": {},
   "outputs": [
    {
     "name": "stdout",
     "output_type": "stream",
     "text": [
      "WARNING:tensorflow:From <ipython-input-29-5742fdb40219>:6: softmax_cross_entropy_with_logits (from tensorflow.python.ops.nn_ops) is deprecated and will be removed in a future version.\n",
      "Instructions for updating:\n",
      "\n",
      "Future major versions of TensorFlow will allow gradients to flow\n",
      "into the labels input on backprop by default.\n",
      "\n",
      "See `tf.nn.softmax_cross_entropy_with_logits_v2`.\n",
      "\n"
     ]
    }
   ],
   "source": [
    "#-------------------------------- 2.3 构建训练模型------------------------------------------------\n",
    "with tf.name_scope('optimizer'):\n",
    "    # 定义占位符\n",
    "    y = tf.placeholder('float', shape=[None, 10], name='label')\n",
    "    # 定义损失函数\n",
    "    loss_func = tf.reduce_mean(tf.nn.softmax_cross_entropy_with_logits(logits=pred, labels=y))\n",
    "    # 选择优化器\n",
    "    optimizer = tf.train.AdamOptimizer(learning_rate=0.0001).minimize(loss_func)  \n",
    "    # 开始学习率设为0.01时，每次返回的损失值和准确率保持不变。把学习率调小了才可以正常地下降\n"
   ]
  },
  {
   "cell_type": "code",
   "execution_count": 30,
   "metadata": {},
   "outputs": [],
   "source": [
    "# 定义准确率\n",
    "with tf.name_scope('evaluation'):\n",
    "    correct_prediction = tf.equal(tf.argmax(pred, 1), tf.argmax(y, 1))\n",
    "    accuracy = tf.reduce_mean(tf.cast(correct_prediction, 'float'))\n"
   ]
  },
  {
   "cell_type": "code",
   "execution_count": 31,
   "metadata": {},
   "outputs": [],
   "source": [
    "#------------------------------------- 步骤3：训练模型 -----------------------------------------------\n",
    "#-----------------------------------3.1 定义参数，启动会话---------------------------------------------\n",
    "from time import time"
   ]
  },
  {
   "cell_type": "code",
   "execution_count": 32,
   "metadata": {},
   "outputs": [],
   "source": [
    "# 定义参数\n",
    "train_epochs = 50\n",
    "batch_size = 50\n",
    "total_batch = int(len(Xtrain) / batch_size)\n",
    "epoch_list = []\n",
    "accuracy_list = []\n",
    "loss_list = []\n",
    "\n",
    "epoch = tf.Variable(0, name='epoch', trainable=False)\n",
    "\n",
    "startTime = time()\n",
    "\n",
    "sess = tf.Session()\n",
    "sess.run(tf.global_variables_initializer())\n"
   ]
  },
  {
   "cell_type": "code",
   "execution_count": 33,
   "metadata": {},
   "outputs": [],
   "source": [
    "#-----------------------------------------3.2 断点续训-------------------------------------------------------\n",
    "#设置检查点存储目录\n",
    "ckpt_dir = 'CIFAR10_log/'\n",
    "if not os.path.exists(ckpt_dir):\n",
    "    os.makedirs(ckpt_dir)"
   ]
  },
  {
   "cell_type": "code",
   "execution_count": 34,
   "metadata": {},
   "outputs": [],
   "source": [
    "#生成saver\n",
    "saver = tf.train.Saver(max_to_keep=1)   # 包含了程序中定义的所有变量\n"
   ]
  },
  {
   "cell_type": "code",
   "execution_count": 35,
   "metadata": {},
   "outputs": [
    {
     "name": "stdout",
     "output_type": "stream",
     "text": [
      "Training from scratch!\n"
     ]
    }
   ],
   "source": [
    "# 如果有检查点文件，则读取最新的检查点文件，恢复各变量值\n",
    "ckpt = tf.train.latest_checkpoint(ckpt_dir)\n",
    "if ckpt != None:\n",
    "    saver.restore(sess, ckpt) # 加载所有的参数\n",
    "    # 从这里开始就可以直接使用模型进行预测，或者接着训练了\n",
    "else:\n",
    "    print('Training from scratch!')\n"
   ]
  },
  {
   "cell_type": "code",
   "execution_count": 36,
   "metadata": {},
   "outputs": [
    {
     "name": "stdout",
     "output_type": "stream",
     "text": [
      "Training starts from 1 epoch\n"
     ]
    }
   ],
   "source": [
    "# 获取续训参数（断点位于第几轮）\n",
    "start = sess.run(epoch)\n",
    "print('Training starts from {} epoch'.format(start+1))\n"
   ]
  },
  {
   "cell_type": "code",
   "execution_count": 37,
   "metadata": {},
   "outputs": [
    {
     "name": "stdout",
     "output_type": "stream",
     "text": [
      "Step 0 finished\n",
      "Step 100 finished\n",
      "Step 200 finished\n",
      "Step 300 finished\n",
      "Step 400 finished\n",
      "Step 500 finished\n",
      "Step 600 finished\n",
      "Step 700 finished\n",
      "Step 800 finished\n",
      "Step 900 finished\n",
      "训练轮次： 01   损失值= 2.183804   准确率= 0.2200\n",
      "Step 0 finished\n",
      "Step 100 finished\n",
      "Step 200 finished\n",
      "Step 300 finished\n",
      "Step 400 finished\n",
      "Step 500 finished\n",
      "Step 600 finished\n",
      "Step 700 finished\n",
      "Step 800 finished\n",
      "Step 900 finished\n",
      "训练轮次： 02   损失值= 2.132280   准确率= 0.3200\n",
      "Step 0 finished\n",
      "Step 100 finished\n",
      "Step 200 finished\n",
      "Step 300 finished\n",
      "Step 400 finished\n",
      "Step 500 finished\n",
      "Step 600 finished\n",
      "Step 700 finished\n",
      "Step 800 finished\n",
      "Step 900 finished\n",
      "训练轮次： 03   损失值= 2.090578   准确率= 0.3800\n",
      "Step 0 finished\n",
      "Step 100 finished\n",
      "Step 200 finished\n",
      "Step 300 finished\n",
      "Step 400 finished\n",
      "Step 500 finished\n",
      "Step 600 finished\n",
      "Step 700 finished\n",
      "Step 800 finished\n",
      "Step 900 finished\n",
      "训练轮次： 04   损失值= 2.123771   准确率= 0.3200\n",
      "Step 0 finished\n",
      "Step 100 finished\n",
      "Step 200 finished\n",
      "Step 300 finished\n",
      "Step 400 finished\n",
      "Step 500 finished\n",
      "Step 600 finished\n",
      "Step 700 finished\n",
      "Step 800 finished\n",
      "Step 900 finished\n",
      "训练轮次： 05   损失值= 2.058606   准确率= 0.4200\n",
      "Step 0 finished\n",
      "Step 100 finished\n",
      "Step 200 finished\n",
      "Step 300 finished\n",
      "Step 400 finished\n",
      "Step 500 finished\n",
      "Step 600 finished\n",
      "Step 700 finished\n",
      "Step 800 finished\n",
      "Step 900 finished\n",
      "训练轮次： 06   损失值= 2.092651   准确率= 0.3800\n",
      "Step 0 finished\n",
      "Step 100 finished\n",
      "Step 200 finished\n",
      "Step 300 finished\n",
      "Step 400 finished\n",
      "Step 500 finished\n",
      "Step 600 finished\n",
      "Step 700 finished\n",
      "Step 800 finished\n",
      "Step 900 finished\n",
      "训练轮次： 07   损失值= 2.062570   准确率= 0.3800\n",
      "Step 0 finished\n",
      "Step 100 finished\n",
      "Step 200 finished\n",
      "Step 300 finished\n",
      "Step 400 finished\n",
      "Step 500 finished\n",
      "Step 600 finished\n",
      "Step 700 finished\n",
      "Step 800 finished\n",
      "Step 900 finished\n",
      "训练轮次： 08   损失值= 2.056373   准确率= 0.4200\n",
      "Step 0 finished\n",
      "Step 100 finished\n",
      "Step 200 finished\n",
      "Step 300 finished\n",
      "Step 400 finished\n",
      "Step 500 finished\n",
      "Step 600 finished\n",
      "Step 700 finished\n",
      "Step 800 finished\n",
      "Step 900 finished\n",
      "训练轮次： 09   损失值= 2.046173   准确率= 0.4400\n",
      "Step 0 finished\n",
      "Step 100 finished\n",
      "Step 200 finished\n",
      "Step 300 finished\n",
      "Step 400 finished\n",
      "Step 500 finished\n",
      "Step 600 finished\n",
      "Step 700 finished\n",
      "Step 800 finished\n",
      "Step 900 finished\n",
      "训练轮次： 10   损失值= 2.031164   准确率= 0.4200\n",
      "Step 0 finished\n",
      "Step 100 finished\n",
      "Step 200 finished\n",
      "Step 300 finished\n",
      "Step 400 finished\n",
      "Step 500 finished\n",
      "Step 600 finished\n",
      "Step 700 finished\n",
      "Step 800 finished\n",
      "Step 900 finished\n",
      "训练轮次： 11   损失值= 2.026996   准确率= 0.3800\n",
      "Step 0 finished\n",
      "Step 100 finished\n",
      "Step 200 finished\n",
      "Step 300 finished\n",
      "Step 400 finished\n",
      "Step 500 finished\n",
      "Step 600 finished\n",
      "Step 700 finished\n",
      "Step 800 finished\n",
      "Step 900 finished\n",
      "训练轮次： 12   损失值= 2.028494   准确率= 0.4000\n",
      "Step 0 finished\n",
      "Step 100 finished\n",
      "Step 200 finished\n",
      "Step 300 finished\n",
      "Step 400 finished\n",
      "Step 500 finished\n",
      "Step 600 finished\n",
      "Step 700 finished\n",
      "Step 800 finished\n",
      "Step 900 finished\n",
      "训练轮次： 13   损失值= 1.999546   准确率= 0.4600\n",
      "Step 0 finished\n",
      "Step 100 finished\n",
      "Step 200 finished\n",
      "Step 300 finished\n",
      "Step 400 finished\n",
      "Step 500 finished\n",
      "Step 600 finished\n",
      "Step 700 finished\n",
      "Step 800 finished\n",
      "Step 900 finished\n",
      "训练轮次： 14   损失值= 2.042398   准确率= 0.3800\n",
      "Step 0 finished\n",
      "Step 100 finished\n",
      "Step 200 finished\n",
      "Step 300 finished\n",
      "Step 400 finished\n",
      "Step 500 finished\n",
      "Step 600 finished\n",
      "Step 700 finished\n",
      "Step 800 finished\n",
      "Step 900 finished\n",
      "训练轮次： 15   损失值= 1.991145   准确率= 0.4800\n",
      "Step 0 finished\n",
      "Step 100 finished\n",
      "Step 200 finished\n",
      "Step 300 finished\n",
      "Step 400 finished\n",
      "Step 500 finished\n",
      "Step 600 finished\n",
      "Step 700 finished\n",
      "Step 800 finished\n",
      "Step 900 finished\n",
      "训练轮次： 16   损失值= 1.972358   准确率= 0.4800\n",
      "Step 0 finished\n",
      "Step 100 finished\n",
      "Step 200 finished\n",
      "Step 300 finished\n",
      "Step 400 finished\n",
      "Step 500 finished\n",
      "Step 600 finished\n",
      "Step 700 finished\n",
      "Step 800 finished\n",
      "Step 900 finished\n",
      "训练轮次： 17   损失值= 1.975899   准确率= 0.4800\n",
      "Step 0 finished\n",
      "Step 100 finished\n",
      "Step 200 finished\n",
      "Step 300 finished\n",
      "Step 400 finished\n",
      "Step 500 finished\n",
      "Step 600 finished\n",
      "Step 700 finished\n",
      "Step 800 finished\n",
      "Step 900 finished\n",
      "训练轮次： 18   损失值= 1.970919   准确率= 0.4800\n",
      "Step 0 finished\n",
      "Step 100 finished\n",
      "Step 200 finished\n",
      "Step 300 finished\n",
      "Step 400 finished\n",
      "Step 500 finished\n",
      "Step 600 finished\n",
      "Step 700 finished\n",
      "Step 800 finished\n",
      "Step 900 finished\n",
      "训练轮次： 19   损失值= 1.975245   准确率= 0.4800\n",
      "Step 0 finished\n",
      "Step 100 finished\n",
      "Step 200 finished\n",
      "Step 300 finished\n",
      "Step 400 finished\n",
      "Step 500 finished\n",
      "Step 600 finished\n",
      "Step 700 finished\n",
      "Step 800 finished\n",
      "Step 900 finished\n",
      "训练轮次： 20   损失值= 2.013837   准确率= 0.4000\n",
      "Step 0 finished\n",
      "Step 100 finished\n",
      "Step 200 finished\n",
      "Step 300 finished\n",
      "Step 400 finished\n",
      "Step 500 finished\n",
      "Step 600 finished\n",
      "Step 700 finished\n",
      "Step 800 finished\n",
      "Step 900 finished\n",
      "训练轮次： 21   损失值= 1.965098   准确率= 0.5000\n",
      "Step 0 finished\n",
      "Step 100 finished\n",
      "Step 200 finished\n",
      "Step 300 finished\n",
      "Step 400 finished\n",
      "Step 500 finished\n",
      "Step 600 finished\n",
      "Step 700 finished\n",
      "Step 800 finished\n",
      "Step 900 finished\n",
      "训练轮次： 22   损失值= 1.952584   准确率= 0.5200\n",
      "Step 0 finished\n",
      "Step 100 finished\n",
      "Step 200 finished\n",
      "Step 300 finished\n",
      "Step 400 finished\n",
      "Step 500 finished\n",
      "Step 600 finished\n",
      "Step 700 finished\n",
      "Step 800 finished\n",
      "Step 900 finished\n",
      "训练轮次： 23   损失值= 1.920361   准确率= 0.5600\n",
      "Step 0 finished\n",
      "Step 100 finished\n",
      "Step 200 finished\n",
      "Step 300 finished\n",
      "Step 400 finished\n",
      "Step 500 finished\n",
      "Step 600 finished\n",
      "Step 700 finished\n",
      "Step 800 finished\n",
      "Step 900 finished\n",
      "训练轮次： 24   损失值= 1.957473   准确率= 0.5000\n",
      "Step 0 finished\n",
      "Step 100 finished\n",
      "Step 200 finished\n",
      "Step 300 finished\n",
      "Step 400 finished\n",
      "Step 500 finished\n",
      "Step 600 finished\n",
      "Step 700 finished\n",
      "Step 800 finished\n",
      "Step 900 finished\n",
      "训练轮次： 25   损失值= 1.907457   准确率= 0.5600\n",
      "Step 0 finished\n",
      "Step 100 finished\n",
      "Step 200 finished\n",
      "Step 300 finished\n",
      "Step 400 finished\n",
      "Step 500 finished\n",
      "Step 600 finished\n",
      "Step 700 finished\n",
      "Step 800 finished\n",
      "Step 900 finished\n",
      "训练轮次： 26   损失值= 1.870389   准确率= 0.5800\n",
      "Step 0 finished\n",
      "Step 100 finished\n",
      "Step 200 finished\n",
      "Step 300 finished\n",
      "Step 400 finished\n",
      "Step 500 finished\n",
      "Step 600 finished\n",
      "Step 700 finished\n",
      "Step 800 finished\n",
      "Step 900 finished\n",
      "训练轮次： 27   损失值= 1.889470   准确率= 0.5800\n",
      "Step 0 finished\n",
      "Step 100 finished\n",
      "Step 200 finished\n",
      "Step 300 finished\n",
      "Step 400 finished\n",
      "Step 500 finished\n",
      "Step 600 finished\n",
      "Step 700 finished\n",
      "Step 800 finished\n",
      "Step 900 finished\n",
      "训练轮次： 28   损失值= 1.960710   准确率= 0.5200\n",
      "Step 0 finished\n",
      "Step 100 finished\n",
      "Step 200 finished\n",
      "Step 300 finished\n",
      "Step 400 finished\n",
      "Step 500 finished\n",
      "Step 600 finished\n",
      "Step 700 finished\n",
      "Step 800 finished\n",
      "Step 900 finished\n",
      "训练轮次： 29   损失值= 1.947220   准确率= 0.5000\n",
      "Step 0 finished\n",
      "Step 100 finished\n",
      "Step 200 finished\n",
      "Step 300 finished\n",
      "Step 400 finished\n",
      "Step 500 finished\n",
      "Step 600 finished\n",
      "Step 700 finished\n",
      "Step 800 finished\n",
      "Step 900 finished\n",
      "训练轮次： 30   损失值= 1.922502   准确率= 0.5200\n",
      "Step 0 finished\n",
      "Step 100 finished\n",
      "Step 200 finished\n",
      "Step 300 finished\n",
      "Step 400 finished\n",
      "Step 500 finished\n",
      "Step 600 finished\n",
      "Step 700 finished\n",
      "Step 800 finished\n",
      "Step 900 finished\n",
      "训练轮次： 31   损失值= 1.948058   准确率= 0.4800\n",
      "Step 0 finished\n",
      "Step 100 finished\n",
      "Step 200 finished\n",
      "Step 300 finished\n",
      "Step 400 finished\n",
      "Step 500 finished\n",
      "Step 600 finished\n",
      "Step 700 finished\n",
      "Step 800 finished\n",
      "Step 900 finished\n",
      "训练轮次： 32   损失值= 1.912853   准确率= 0.5400\n",
      "Step 0 finished\n",
      "Step 100 finished\n",
      "Step 200 finished\n",
      "Step 300 finished\n",
      "Step 400 finished\n",
      "Step 500 finished\n",
      "Step 600 finished\n",
      "Step 700 finished\n",
      "Step 800 finished\n",
      "Step 900 finished\n",
      "训练轮次： 33   损失值= 1.921248   准确率= 0.5400\n",
      "Step 0 finished\n",
      "Step 100 finished\n",
      "Step 200 finished\n",
      "Step 300 finished\n",
      "Step 400 finished\n",
      "Step 500 finished\n",
      "Step 600 finished\n",
      "Step 700 finished\n",
      "Step 800 finished\n",
      "Step 900 finished\n",
      "训练轮次： 34   损失值= 1.910711   准确率= 0.5800\n",
      "Step 0 finished\n",
      "Step 100 finished\n",
      "Step 200 finished\n",
      "Step 300 finished\n",
      "Step 400 finished\n",
      "Step 500 finished\n",
      "Step 600 finished\n",
      "Step 700 finished\n",
      "Step 800 finished\n",
      "Step 900 finished\n",
      "训练轮次： 35   损失值= 1.952466   准确率= 0.4600\n",
      "Step 0 finished\n",
      "Step 100 finished\n",
      "Step 200 finished\n",
      "Step 300 finished\n",
      "Step 400 finished\n",
      "Step 500 finished\n",
      "Step 600 finished\n",
      "Step 700 finished\n",
      "Step 800 finished\n",
      "Step 900 finished\n",
      "训练轮次： 36   损失值= 1.877766   准确率= 0.5800\n",
      "Step 0 finished\n",
      "Step 100 finished\n",
      "Step 200 finished\n",
      "Step 300 finished\n",
      "Step 400 finished\n",
      "Step 500 finished\n",
      "Step 600 finished\n",
      "Step 700 finished\n",
      "Step 800 finished\n",
      "Step 900 finished\n",
      "训练轮次： 37   损失值= 1.907186   准确率= 0.5400\n",
      "Step 0 finished\n",
      "Step 100 finished\n",
      "Step 200 finished\n",
      "Step 300 finished\n",
      "Step 400 finished\n",
      "Step 500 finished\n",
      "Step 600 finished\n",
      "Step 700 finished\n",
      "Step 800 finished\n",
      "Step 900 finished\n"
     ]
    },
    {
     "name": "stdout",
     "output_type": "stream",
     "text": [
      "训练轮次： 38   损失值= 1.871761   准确率= 0.6000\n",
      "Step 0 finished\n",
      "Step 100 finished\n",
      "Step 200 finished\n",
      "Step 300 finished\n",
      "Step 400 finished\n",
      "Step 500 finished\n",
      "Step 600 finished\n",
      "Step 700 finished\n",
      "Step 800 finished\n",
      "Step 900 finished\n",
      "训练轮次： 39   损失值= 1.894547   准确率= 0.5600\n",
      "Step 0 finished\n",
      "Step 100 finished\n",
      "Step 200 finished\n",
      "Step 300 finished\n",
      "Step 400 finished\n",
      "Step 500 finished\n",
      "Step 600 finished\n",
      "Step 700 finished\n",
      "Step 800 finished\n",
      "Step 900 finished\n",
      "训练轮次： 40   损失值= 1.880460   准确率= 0.5800\n",
      "Step 0 finished\n",
      "Step 100 finished\n",
      "Step 200 finished\n",
      "Step 300 finished\n",
      "Step 400 finished\n",
      "Step 500 finished\n",
      "Step 600 finished\n",
      "Step 700 finished\n",
      "Step 800 finished\n",
      "Step 900 finished\n",
      "训练轮次： 41   损失值= 1.871662   准确率= 0.6000\n",
      "Step 0 finished\n",
      "Step 100 finished\n",
      "Step 200 finished\n",
      "Step 300 finished\n",
      "Step 400 finished\n",
      "Step 500 finished\n",
      "Step 600 finished\n",
      "Step 700 finished\n",
      "Step 800 finished\n",
      "Step 900 finished\n",
      "训练轮次： 42   损失值= 1.896903   准确率= 0.5600\n",
      "Step 0 finished\n",
      "Step 100 finished\n",
      "Step 200 finished\n",
      "Step 300 finished\n",
      "Step 400 finished\n",
      "Step 500 finished\n",
      "Step 600 finished\n",
      "Step 700 finished\n",
      "Step 800 finished\n",
      "Step 900 finished\n",
      "训练轮次： 43   损失值= 1.849152   准确率= 0.6200\n",
      "Step 0 finished\n",
      "Step 100 finished\n",
      "Step 200 finished\n",
      "Step 300 finished\n",
      "Step 400 finished\n",
      "Step 500 finished\n",
      "Step 600 finished\n",
      "Step 700 finished\n",
      "Step 800 finished\n",
      "Step 900 finished\n",
      "训练轮次： 44   损失值= 1.858590   准确率= 0.6000\n",
      "Step 0 finished\n",
      "Step 100 finished\n",
      "Step 200 finished\n",
      "Step 300 finished\n",
      "Step 400 finished\n",
      "Step 500 finished\n",
      "Step 600 finished\n",
      "Step 700 finished\n",
      "Step 800 finished\n",
      "Step 900 finished\n",
      "训练轮次： 45   损失值= 1.883128   准确率= 0.5800\n",
      "Step 0 finished\n",
      "Step 100 finished\n",
      "Step 200 finished\n",
      "Step 300 finished\n",
      "Step 400 finished\n",
      "Step 500 finished\n",
      "Step 600 finished\n",
      "Step 700 finished\n",
      "Step 800 finished\n",
      "Step 900 finished\n",
      "训练轮次： 46   损失值= 1.844508   准确率= 0.6000\n",
      "Step 0 finished\n",
      "Step 100 finished\n",
      "Step 200 finished\n",
      "Step 300 finished\n",
      "Step 400 finished\n",
      "Step 500 finished\n",
      "Step 600 finished\n",
      "Step 700 finished\n",
      "Step 800 finished\n",
      "Step 900 finished\n",
      "训练轮次： 47   损失值= 1.861523   准确率= 0.6000\n",
      "Step 0 finished\n",
      "Step 100 finished\n",
      "Step 200 finished\n",
      "Step 300 finished\n",
      "Step 400 finished\n",
      "Step 500 finished\n",
      "Step 600 finished\n",
      "Step 700 finished\n",
      "Step 800 finished\n",
      "Step 900 finished\n",
      "训练轮次： 48   损失值= 1.917229   准确率= 0.5200\n",
      "Step 0 finished\n",
      "Step 100 finished\n",
      "Step 200 finished\n",
      "Step 300 finished\n",
      "Step 400 finished\n",
      "Step 500 finished\n",
      "Step 600 finished\n",
      "Step 700 finished\n",
      "Step 800 finished\n",
      "Step 900 finished\n",
      "训练轮次： 49   损失值= 1.900903   准确率= 0.5400\n",
      "Step 0 finished\n",
      "Step 100 finished\n",
      "Step 200 finished\n",
      "Step 300 finished\n",
      "Step 400 finished\n",
      "Step 500 finished\n",
      "Step 600 finished\n",
      "Step 700 finished\n",
      "Step 800 finished\n",
      "Step 900 finished\n",
      "训练轮次： 50   损失值= 1.878827   准确率= 0.5600\n",
      "训练结束！用时560.7057027816772秒\n"
     ]
    }
   ],
   "source": [
    "#-----------------------------------------3.3 迭代训练-------------------------------------------------------\n",
    "# 批量获取训练数据的函数：返回的是经过归一化的图像和标签数据\n",
    "def get_train_batch(number, batch_size):\n",
    "    return Xtrain_normalize[number * batch_size:(number+1) * batch_size], \\\n",
    "           Ytrain_onehot[number * batch_size:(number+1) * batch_size]\n",
    "\n",
    "for ep in range(start, train_epochs):\n",
    "    for i in range(total_batch):\n",
    "        batch_x, batch_y = get_train_batch(i, batch_size)\n",
    "        sess.run(optimizer, feed_dict={x: batch_x, y: batch_y})\n",
    "        if i % 100 ==0:\n",
    "            print(\"Step {}\".format(i), \"finished\")\n",
    "\n",
    "    loss, acc = sess.run([loss_func, accuracy], feed_dict={x: batch_x, y: batch_y})\n",
    "    epoch_list.append(ep+1)\n",
    "    loss_list.append(loss)\n",
    "    accuracy_list.append(acc)\n",
    "\n",
    "    print(\"训练轮次：\", \"%02d\" % (sess.run(epoch)+1),\n",
    "          \"  损失值=\", \"{:.6f}\".format(loss), \"  准确率=\", \"{:.4f}\".format(acc))\n",
    "\n",
    "    # 保存检查点\n",
    "    saver.save(sess, ckpt_dir + \"CIFAR10_cnn_model.ckpt\", global_step=ep + 1)\n",
    "    sess.run(epoch.assign(ep+1))\n",
    "\n",
    "duration = time() - startTime\n",
    "print(\"训练结束！用时{}秒\".format(duration))"
   ]
  },
  {
   "cell_type": "code",
   "execution_count": null,
   "metadata": {},
   "outputs": [],
   "source": [
    "\"\"\"\n",
    "训练结果的改进方式（需根据个人可利用的计算资源）：\n",
    "——增加网络层数；\n",
    "——增加迭代次数；\n",
    "——增加全连接层数；\n",
    "——增加全连接层神经元个数；\n",
    "——数据扩增；\n",
    "——其他。\n",
    "\"\"\""
   ]
  },
  {
   "cell_type": "code",
   "execution_count": 38,
   "metadata": {},
   "outputs": [
    {
     "data": {
      "text/plain": [
       "<matplotlib.legend.Legend at 0x1d081d07630>"
      ]
     },
     "execution_count": 38,
     "metadata": {},
     "output_type": "execute_result"
    },
    {
     "data": {
      "image/png": "[encoded data removed]",
      "text/plain": [
       "<Figure size 288x144 with 1 Axes>"
      ]
     },
     "metadata": {},
     "output_type": "display_data"
    }
   ],
   "source": [
    "#--------------------------------------3.4 可视化损失值和准确率------------------------------------------------\n",
    "# 可视化损失值\n",
    "fig = plt.gcf()\n",
    "fig.set_size_inches(4, 2)\n",
    "plt.plot(epoch_list, loss_list, label='loss')\n",
    "plt.ylabel('loss')\n",
    "plt.xlabel('epoch')\n",
    "plt.legend(['loss'], loc='upper right')"
   ]
  },
  {
   "cell_type": "code",
   "execution_count": 39,
   "metadata": {},
   "outputs": [
    {
     "data": {
      "image/png": "[encoded data removed]",
      "text/plain": [
       "<Figure size 288x144 with 1 Axes>"
      ]
     },
     "metadata": {},
     "output_type": "display_data"
    }
   ],
   "source": [
    "# 可视化准确率\n",
    "plt.plot(epoch_list, accuracy_list, label='accuracy')\n",
    "fig = plt.gcf()\n",
    "fig.set_size_inches(4, 2)\n",
    "plt.ylim(0.1, 1)\n",
    "plt.ylabel('accuracy')\n",
    "plt.xlabel('epoch')\n",
    "plt.legend()\n",
    "plt.show()"
   ]
  },
  {
   "cell_type": "code",
   "execution_count": 41,
   "metadata": {},
   "outputs": [
    {
     "data": {
      "image/png": "[encoded data removed]",
      "text/plain": [
       "<Figure size 864x432 with 10 Axes>"
      ]
     },
     "metadata": {},
     "output_type": "display_data"
    }
   ],
   "source": [
    "#--------------------------------------4.1 利用模型进行预测------------------------------------------------\n",
    "test_pred = sess.run(pred, feed_dict={x: Xtest_normalize[:10]})\n",
    "prediction_result = sess.run(tf.argmax(test_pred, 1))\n",
    "# 可视化预测结果\n",
    "plot_images_labels_prediction(Xtest, Ytest, prediction_result, 0, 10)"
   ]
  },
  {
   "cell_type": "code",
   "execution_count": null,
   "metadata": {},
   "outputs": [],
   "source": []
  }
 ],
 "metadata": {
  "kernelspec": {
   "display_name": "Python 3",
   "language": "python",
   "name": "python3"
  },
  "language_info": {
   "codemirror_mode": {
    "name": "ipython",
    "version": 3
   },
   "file_extension": ".py",
   "mimetype": "text/x-python",
   "name": "python",
   "nbconvert_exporter": "python",
   "pygments_lexer": "ipython3",
   "version": "3.6.5"
  }
 },
 "nbformat": 4,
 "nbformat_minor": 2
}
